{
 "cells": [
  {
   "cell_type": "code",
   "execution_count": 1,
   "metadata": {},
   "outputs": [],
   "source": [
    "import cv2\n",
    "import numpy as np\n",
    "import utlis"
   ]
  },
  {
   "cell_type": "code",
   "execution_count": 2,
   "metadata": {},
   "outputs": [],
   "source": [
    "def scan_image(imagePath):\n",
    "    \n",
    "    heightImg = 640\n",
    "    widthImg  = 480\n",
    "\n",
    "    img = cv2.imread(imagePath)\n",
    "    imgCopy = img.copy() # Keep an original copy of the image\n",
    "    img = cv2.resize(img, (widthImg, heightImg)) # Resize the image\n",
    "    imgResizeCopy = img.copy() # Copy of the resize image\n",
    "\n",
    "    hsv=cv2.cvtColor(img,cv2.COLOR_BGR2HSV)\n",
    "    green_lo=np.array([10, 25, 25])# Define lower and uppper limits of what we call \"green\"\n",
    "    green_hi=np.array([80, 255,255])\n",
    "    mask=cv2.inRange(hsv,green_lo,green_hi)# Mask image to only select greens\n",
    "    img[mask>0]=(0,0,0)# Change image to black where we found green\n",
    "\n",
    "    imgGray = cv2.cvtColor(img, cv2.COLOR_BGR2GRAY) # Convert image to grayscale\n",
    "    imgBlur = cv2.GaussianBlur(imgGray, (5, 5), 1) # Add gaussian blur\n",
    "    imgThreshold = cv2.Canny(imgBlur,200,255) # Appy canny blur\n",
    "    kernel = np.ones((5, 5))\n",
    "    imgDial = cv2.dilate(imgThreshold, kernel, iterations=2) # Apply dialation\n",
    "    imgThreshold = cv2.erode(imgDial, kernel, iterations=1)  # Apply erosion  \n",
    "\n",
    "    # FIND ALL CONTOURs\n",
    "    imgContours = img.copy() # Copy image for display purposes\n",
    "    imgBigContour = img.copy() # Copy image for display purposes\n",
    "    contours, hierarchy = cv2.findContours(imgThreshold, cv2.RETR_EXTERNAL, cv2.CHAIN_APPROX_SIMPLE) # Find all contours\n",
    "    cv2.drawContours(imgContours, contours, -1, (0, 255, 0), 10) # Draw all detected contours\n",
    "\n",
    "    # FIND THE BIGGEST CONTOUR AND WRAP THE IMAGE\n",
    "    biggest, maxArea = utlis.biggestContour(contours) # Find the biggest contour\n",
    "\n",
    "    if biggest.size != 0:\n",
    "        biggest=utlis.reorder(biggest)\n",
    "        cv2.drawContours(imgBigContour, biggest, -1, (0, 255, 0), 20) # Draw the biggest contour\n",
    "        imgBigContour = utlis.drawRectangle(imgBigContour,biggest,2)\n",
    "        pts1 = np.float32(biggest) # Prepare point for wrap\n",
    "        pts2 = np.float32([[0, 0],[widthImg, 0], [0, heightImg],[widthImg, heightImg]]) # Prepare point for wrap\n",
    "        matrix = cv2.getPerspectiveTransform(pts1, pts2)\n",
    "        imgWarpColored = cv2.warpPerspective(img, matrix, (widthImg, heightImg))\n",
    "\n",
    "        #REMOVE 20 PIXELS FORM EACH SIDE\n",
    "        imgWarpColored=imgWarpColored[20:imgWarpColored.shape[0] - 20, 20:imgWarpColored.shape[1] - 20]\n",
    "        imgWarpColored = cv2.resize(imgWarpColored,(widthImg,heightImg))\n",
    "        \n",
    "        return imgWarpColored\n",
    "    else:\n",
    "        return imgResizeCopy\n",
    "    "
   ]
  },
  {
   "cell_type": "code",
   "execution_count": 3,
   "metadata": {},
   "outputs": [],
   "source": [
    "def count_caterpillars(scanned_img):\n",
    "\n",
    "    scannedImage = scanned_img.copy() # Keep an original copy of the image\n",
    "    grayImage = cv2.cvtColor(scanned_img, cv2.COLOR_BGR2GRAY)#turn to grayscale\n",
    "    (thresh, blackAndWhiteImage) = cv2.threshold(grayImage, 130, 255, cv2.THRESH_BINARY)\n",
    "    imagem = cv2.bitwise_not(grayImage)#bit-wise conversion of the image    \n",
    "\n",
    "    # First threshlding image using adaptive thresholding\n",
    "    thresholded_image = cv2.adaptiveThreshold(imagem, 255, cv2.ADAPTIVE_THRESH_GAUSSIAN_C, cv2.THRESH_BINARY, 101, -5)\n",
    "    # Then errode thresholded image\n",
    "    eroded_image = cv2.erode(thresholded_image.astype('uint8'),None,iterations = 1)\n",
    "\n",
    "    # You need to choose 4 or 8 for connectivity type\n",
    "    connectivity = 4  \n",
    "    # Perform the operation\n",
    "    output = cv2.connectedComponentsWithStats(eroded_image, connectivity, cv2.CV_32S)\n",
    "    # Get the results\n",
    "    # The first cell is the number of labels\n",
    "    num_labels = output[0]\n",
    "    #print(\"Number of total connected components including small particles : \" ,num_labels)\n",
    "    # The second cell is the label matrix \n",
    "    labels = output[1]\n",
    "    # The third cell is the stat matrix\n",
    "    stats = output[2]\n",
    "    # The fourth cell is the centroid matrix\n",
    "    centroids = output[3]\n",
    "\n",
    "    pixel_areas = []\n",
    "    # print(stats)\n",
    "    caterpillar_count = 0\n",
    "\n",
    "    for i in range(1, num_labels):\n",
    "        if stats[i][4] > 20:#Area threshold\n",
    "    #         print(stats[i][4])\n",
    "            caterpillar_count+=1\n",
    "            left_x = stats[i][0]\n",
    "            up_y = stats[i][1]\n",
    "            right_x = left_x + stats[i][2]\n",
    "            down_y = up_y + stats[i][3]\n",
    "            cv2.rectangle(scanned_img,(left_x, up_y),(right_x,down_y),(0,255,0),3)\n",
    "\n",
    "    cv2.imwrite('Output/calculated.jpg', scanned_img)\n",
    "    #print(\"Dust particles : \" ,num_labels - caterpillar_count)\n",
    "    print(\"Total Number of Caterpillars : \" , caterpillar_count)\n"
   ]
  },
  {
   "cell_type": "code",
   "execution_count": 4,
   "metadata": {},
   "outputs": [
    {
     "name": "stdout",
     "output_type": "stream",
     "text": [
      "Total Number of Caterpillars :  25\n"
     ]
    }
   ],
   "source": [
    "imagePath = \"Images/2.jpg\"\n",
    "scanned_img = scan_image(imagePath)\n",
    "count_caterpillars(scanned_img)\n"
   ]
  }
 ],
 "metadata": {
  "kernelspec": {
   "display_name": "Python 3",
   "language": "python",
   "name": "python3"
  },
  "language_info": {
   "codemirror_mode": {
    "name": "ipython",
    "version": 3
   },
   "file_extension": ".py",
   "mimetype": "text/x-python",
   "name": "python",
   "nbconvert_exporter": "python",
   "pygments_lexer": "ipython3",
   "version": "3.8.5"
  }
 },
 "nbformat": 4,
 "nbformat_minor": 4
}
